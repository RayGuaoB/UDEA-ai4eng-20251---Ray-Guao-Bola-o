{
 "cells": [
  {
   "cell_type": "markdown",
   "id": "d3cadaee",
   "metadata": {},
   "source": [
    "## Instalación de dependencias"
   ]
  },
  {
   "cell_type": "code",
   "execution_count": 1,
   "id": "41ca37ed",
   "metadata": {},
   "outputs": [
    {
     "name": "stdout",
     "output_type": "stream",
     "text": [
      "Requirement already satisfied: pandas in c:\\users\\lopez\\appdata\\local\\programs\\python\\python313\\lib\\site-packages (2.2.3)\n",
      "Requirement already satisfied: numpy in c:\\users\\lopez\\appdata\\local\\programs\\python\\python313\\lib\\site-packages (2.2.4)\n",
      "Requirement already satisfied: scikit-learn in c:\\users\\lopez\\appdata\\local\\programs\\python\\python313\\lib\\site-packages (1.7.0)\n",
      "Requirement already satisfied: matplotlib in c:\\users\\lopez\\appdata\\local\\programs\\python\\python313\\lib\\site-packages (3.10.1)\n",
      "Requirement already satisfied: python-dateutil>=2.8.2 in c:\\users\\lopez\\appdata\\local\\programs\\python\\python313\\lib\\site-packages (from pandas) (2.9.0.post0)\n",
      "Requirement already satisfied: pytz>=2020.1 in c:\\users\\lopez\\appdata\\local\\programs\\python\\python313\\lib\\site-packages (from pandas) (2025.2)\n",
      "Requirement already satisfied: tzdata>=2022.7 in c:\\users\\lopez\\appdata\\local\\programs\\python\\python313\\lib\\site-packages (from pandas) (2025.2)\n",
      "Requirement already satisfied: scipy>=1.8.0 in c:\\users\\lopez\\appdata\\local\\programs\\python\\python313\\lib\\site-packages (from scikit-learn) (1.16.0)\n",
      "Requirement already satisfied: joblib>=1.2.0 in c:\\users\\lopez\\appdata\\local\\programs\\python\\python313\\lib\\site-packages (from scikit-learn) (1.5.1)\n",
      "Requirement already satisfied: threadpoolctl>=3.1.0 in c:\\users\\lopez\\appdata\\local\\programs\\python\\python313\\lib\\site-packages (from scikit-learn) (3.6.0)\n",
      "Requirement already satisfied: contourpy>=1.0.1 in c:\\users\\lopez\\appdata\\local\\programs\\python\\python313\\lib\\site-packages (from matplotlib) (1.3.1)\n",
      "Requirement already satisfied: cycler>=0.10 in c:\\users\\lopez\\appdata\\local\\programs\\python\\python313\\lib\\site-packages (from matplotlib) (0.12.1)\n",
      "Requirement already satisfied: fonttools>=4.22.0 in c:\\users\\lopez\\appdata\\local\\programs\\python\\python313\\lib\\site-packages (from matplotlib) (4.57.0)\n",
      "Requirement already satisfied: kiwisolver>=1.3.1 in c:\\users\\lopez\\appdata\\local\\programs\\python\\python313\\lib\\site-packages (from matplotlib) (1.4.8)\n",
      "Requirement already satisfied: packaging>=20.0 in c:\\users\\lopez\\appdata\\local\\programs\\python\\python313\\lib\\site-packages (from matplotlib) (24.2)\n",
      "Requirement already satisfied: pillow>=8 in c:\\users\\lopez\\appdata\\local\\programs\\python\\python313\\lib\\site-packages (from matplotlib) (11.1.0)\n",
      "Requirement already satisfied: pyparsing>=2.3.1 in c:\\users\\lopez\\appdata\\local\\programs\\python\\python313\\lib\\site-packages (from matplotlib) (3.2.3)\n",
      "Requirement already satisfied: six>=1.5 in c:\\users\\lopez\\appdata\\local\\programs\\python\\python313\\lib\\site-packages (from python-dateutil>=2.8.2->pandas) (1.17.0)\n",
      "Note: you may need to restart the kernel to use updated packages.\n"
     ]
    }
   ],
   "source": [
    "%pip install pandas numpy scikit-learn matplotlib"
   ]
  },
  {
   "cell_type": "markdown",
   "id": "553036a9",
   "metadata": {},
   "source": [
    "## Carga de librerías y archivos"
   ]
  },
  {
   "cell_type": "code",
   "execution_count": 2,
   "id": "9f8e3e32",
   "metadata": {},
   "outputs": [],
   "source": [
    "import os\n",
    "import pandas as pd\n",
    "import numpy as np\n",
    "from sklearn.model_selection import train_test_split\n",
    "from sklearn.metrics import accuracy_score, classification_report\n",
    "from sklearn.preprocessing import OneHotEncoder, StandardScaler, LabelEncoder\n",
    "from sklearn.compose import ColumnTransformer\n",
    "from sklearn.pipeline import Pipeline\n",
    "from sklearn.neural_network import MLPClassifier\n",
    "\n",
    "\n",
    "os.chdir(\"C:/Users/lopez/Desktop/udea-ai-4-eng-20251-pruebas-saber-pro-colombia\")\n",
    "\n",
    "# Cargar datos\n",
    "train = pd.read_csv(\"train.csv\")"
   ]
  },
  {
   "cell_type": "markdown",
   "id": "7471b49d",
   "metadata": {},
   "source": [
    "## Selección de variables y división de datos"
   ]
  },
  {
   "cell_type": "code",
   "execution_count": 3,
   "id": "6b75b7a9",
   "metadata": {},
   "outputs": [],
   "source": [
    "categorical_features = [\n",
    "    \"ESTU_VALORMATRICULAUNIVERSIDAD\",\n",
    "    \"ESTU_HORASSEMANATRABAJA\",\n",
    "    \"FAMI_ESTRATOVIVIENDA\",\n",
    "    \"FAMI_EDUCACIONPADRE\",\n",
    "    \"FAMI_EDUCACIONMADRE\",\n",
    "    \"ESTU_PRGM_DEPARTAMENTO\",\n",
    "    \"FAMI_TIENEINTERNET\",\n",
    "    \"ESTU_PAGOMATRICULAPROPIO\",\n",
    "    \"ESTU_PRGM_ACADEMICO\"\n",
    "]\n",
    "\n",
    "# Asegurar que las variables categóricas sean string y sin nulos\n",
    "temp = train.copy()\n",
    "for col in categorical_features:\n",
    "    if col in temp.columns:\n",
    "        temp[col] = temp[col].astype(str).fillna('missing')\n",
    "\n",
    "# Codificar el target a valores numéricos\n",
    "le = LabelEncoder()\n",
    "y = le.fit_transform(temp[\"RENDIMIENTO_GLOBAL\"])\n",
    "X = temp.drop(columns=[\"RENDIMIENTO_GLOBAL\", \"ID\", \"PERIODO\"] )\n",
    "X_train, X_temp, y_train, y_temp = train_test_split(X, y, test_size=0.2, random_state=42, stratify=y)\n",
    "X_val, X_test, y_val, y_test = train_test_split(X_temp, y_temp, test_size=0.125, random_state=42, stratify=y_temp)"
   ]
  },
  {
   "cell_type": "markdown",
   "id": "d821c8e8",
   "metadata": {},
   "source": [
    "## Preprocesamiento para RandomForestClassifier"
   ]
  },
  {
   "cell_type": "code",
   "execution_count": 5,
   "id": "217de082",
   "metadata": {},
   "outputs": [],
   "source": [
    "numeric_features = [col for col in X_train.select_dtypes(include=[np.number]).columns if col not in categorical_features]\n",
    "\n",
    "preprocessor = ColumnTransformer([\n",
    "    (\"num\", Pipeline([\n",
    "        (\"scaler\", StandardScaler())\n",
    "    ]), numeric_features),\n",
    "    (\"cat\", OneHotEncoder(handle_unknown=\"ignore\", sparse_output=True), categorical_features)\n",
    " ])"
   ]
  },
  {
   "cell_type": "markdown",
   "id": "9ae2870a",
   "metadata": {},
   "source": [
    "## Pipeline y entrenamiento con RandomForestClassifier"
   ]
  },
  {
   "cell_type": "code",
   "execution_count": 6,
   "id": "3ac8971b",
   "metadata": {},
   "outputs": [
    {
     "name": "stderr",
     "output_type": "stream",
     "text": [
      "[Parallel(n_jobs=-1)]: Using backend ThreadingBackend with 8 concurrent workers.\n",
      "[Parallel(n_jobs=-1)]: Done  34 tasks      | elapsed:   11.3s\n",
      "[Parallel(n_jobs=-1)]: Done 184 tasks      | elapsed:   55.1s\n",
      "[Parallel(n_jobs=-1)]: Done 434 tasks      | elapsed:  2.1min\n",
      "[Parallel(n_jobs=-1)]: Done 784 tasks      | elapsed:  3.9min\n",
      "[Parallel(n_jobs=-1)]: Done 1234 tasks      | elapsed:  5.3min\n",
      "[Parallel(n_jobs=-1)]: Done 1784 tasks      | elapsed:  6.5min\n",
      "[Parallel(n_jobs=-1)]: Done 2000 out of 2000 | elapsed:  7.1min finished\n",
      "[Parallel(n_jobs=8)]: Using backend ThreadingBackend with 8 concurrent workers.\n",
      "[Parallel(n_jobs=8)]: Done  34 tasks      | elapsed:    0.1s\n",
      "[Parallel(n_jobs=8)]: Done 184 tasks      | elapsed:    0.7s\n",
      "[Parallel(n_jobs=8)]: Done 434 tasks      | elapsed:    1.6s\n",
      "[Parallel(n_jobs=8)]: Done 784 tasks      | elapsed:    3.1s\n",
      "[Parallel(n_jobs=8)]: Done 1234 tasks      | elapsed:    4.8s\n",
      "[Parallel(n_jobs=8)]: Done 1784 tasks      | elapsed:    7.0s\n",
      "[Parallel(n_jobs=8)]: Done 2000 out of 2000 | elapsed:    7.9s finished\n",
      "[Parallel(n_jobs=8)]: Using backend ThreadingBackend with 8 concurrent workers.\n"
     ]
    },
    {
     "name": "stdout",
     "output_type": "stream",
     "text": [
      "Accuracy validación: 0.3864\n",
      "              precision    recall  f1-score   support\n",
      "\n",
      "        alto       0.45      0.64      0.53     30733\n",
      "        bajo       0.38      0.60      0.47     30272\n",
      "  medio-alto       0.30      0.14      0.19     30034\n",
      "  medio-bajo       0.30      0.17      0.22     30148\n",
      "\n",
      "    accuracy                           0.39    121187\n",
      "   macro avg       0.36      0.38      0.35    121187\n",
      "weighted avg       0.36      0.39      0.35    121187\n",
      "\n"
     ]
    },
    {
     "name": "stderr",
     "output_type": "stream",
     "text": [
      "[Parallel(n_jobs=8)]: Done  34 tasks      | elapsed:    0.0s\n",
      "[Parallel(n_jobs=8)]: Done 184 tasks      | elapsed:    0.1s\n",
      "[Parallel(n_jobs=8)]: Done 434 tasks      | elapsed:    0.2s\n",
      "[Parallel(n_jobs=8)]: Done 784 tasks      | elapsed:    0.5s\n",
      "[Parallel(n_jobs=8)]: Done 1234 tasks      | elapsed:    0.8s\n"
     ]
    },
    {
     "name": "stdout",
     "output_type": "stream",
     "text": [
      "Accuracy test: 0.3872\n",
      "              precision    recall  f1-score   support\n",
      "\n",
      "        alto       0.45      0.64      0.53      4391\n",
      "        bajo       0.38      0.61      0.47      4325\n",
      "  medio-alto       0.29      0.13      0.18      4290\n",
      "  medio-bajo       0.31      0.17      0.22      4307\n",
      "\n",
      "    accuracy                           0.39     17313\n",
      "   macro avg       0.36      0.39      0.35     17313\n",
      "weighted avg       0.36      0.39      0.35     17313\n",
      "\n"
     ]
    },
    {
     "name": "stderr",
     "output_type": "stream",
     "text": [
      "[Parallel(n_jobs=8)]: Done 1784 tasks      | elapsed:    1.1s\n",
      "[Parallel(n_jobs=8)]: Done 2000 out of 2000 | elapsed:    1.2s finished\n"
     ]
    }
   ],
   "source": [
    "from sklearn.ensemble import RandomForestClassifier\n",
    "pipeline = Pipeline([\n",
    "    (\"preprocessor\", preprocessor),\n",
    "    (\"classifier\", RandomForestClassifier(n_estimators=2000, max_depth=8, max_features='sqrt', random_state=42, n_jobs=-1, verbose=1))\n",
    "]) #Usamos n_jobs = -1 para usar todos los cores disponibles en nuestro PC\n",
    "\n",
    "pipeline.fit(X_train, y_train)\n",
    "\n",
    "y_val_pred = pipeline.predict(X_val)\n",
    "val_accuracy = accuracy_score(y_val, y_val_pred)\n",
    "print(f\"Accuracy validación: {val_accuracy:.4f}\")\n",
    "print(classification_report(y_val, y_val_pred, target_names=le.classes_))\n",
    "\n",
    "y_test_pred = pipeline.predict(X_test)\n",
    "test_accuracy = accuracy_score(y_test, y_test_pred)\n",
    "print(f\"Accuracy test: {test_accuracy:.4f}\")\n",
    "print(classification_report(y_test, y_test_pred, target_names=le.classes_))"
   ]
  },
  {
   "cell_type": "markdown",
   "id": "bb9378c1",
   "metadata": {},
   "source": [
    "## Kaggle Submission"
   ]
  },
  {
   "cell_type": "code",
   "execution_count": null,
   "id": "9df990a2",
   "metadata": {},
   "outputs": [],
   "source": [
    "test_data = pd.read_csv(\"test.csv\")"
   ]
  },
  {
   "cell_type": "code",
   "execution_count": null,
   "id": "33d69850",
   "metadata": {},
   "outputs": [
    {
     "name": "stderr",
     "output_type": "stream",
     "text": [
      "[Parallel(n_jobs=8)]: Using backend ThreadingBackend with 8 concurrent workers.\n",
      "[Parallel(n_jobs=8)]: Done  34 tasks      | elapsed:    0.2s\n",
      "[Parallel(n_jobs=8)]: Done  34 tasks      | elapsed:    0.2s\n",
      "[Parallel(n_jobs=8)]: Done 184 tasks      | elapsed:    1.3s\n",
      "[Parallel(n_jobs=8)]: Done 184 tasks      | elapsed:    1.3s\n",
      "[Parallel(n_jobs=8)]: Done 434 tasks      | elapsed:    3.1s\n",
      "[Parallel(n_jobs=8)]: Done 434 tasks      | elapsed:    3.1s\n",
      "[Parallel(n_jobs=8)]: Done 784 tasks      | elapsed:    5.6s\n",
      "[Parallel(n_jobs=8)]: Done 784 tasks      | elapsed:    5.6s\n",
      "[Parallel(n_jobs=8)]: Done 1234 tasks      | elapsed:    8.8s\n",
      "[Parallel(n_jobs=8)]: Done 1234 tasks      | elapsed:    8.8s\n",
      "[Parallel(n_jobs=8)]: Done 1784 tasks      | elapsed:   12.8s\n",
      "[Parallel(n_jobs=8)]: Done 1784 tasks      | elapsed:   12.8s\n"
     ]
    },
    {
     "name": "stdout",
     "output_type": "stream",
     "text": [
      "Archivo de submission generado: submission_rf.csv\n",
      "       ID RENDIMIENTO_GLOBAL\n",
      "0  550236         medio-alto\n",
      "1   98545         medio-alto\n",
      "2  499179               alto\n",
      "3  782980               bajo\n",
      "4  785185         medio-bajo\n"
     ]
    },
    {
     "name": "stderr",
     "output_type": "stream",
     "text": [
      "[Parallel(n_jobs=8)]: Done 2000 out of 2000 | elapsed:   14.4s finished\n"
     ]
    }
   ],
   "source": [
    "for col in categorical_features:\n",
    "    if col in test_data.columns:\n",
    "        test_data[col] = test_data[col].astype(str).fillna('missing')\n",
    "X_test_kaggle = test_data.drop(columns=[\"ID\", \"PERIODO\"], errors='ignore')\n",
    "predictions = pipeline.predict(X_test_kaggle)\n",
    "predictions_labels = le.inverse_transform(predictions)\n",
    "submission_df = test_data[[\"ID\"]].copy()\n",
    "submission_df[\"RENDIMIENTO_GLOBAL\"] = predictions_labels\n",
    "submission_df.to_csv(\"submission_rf.csv\", index=False)\n",
    "print(\"Archivo de submission generado: submission_rf.csv\")\n",
    "print(submission_df.head())"
   ]
  }
 ],
 "metadata": {
  "kernelspec": {
   "display_name": "Python 3",
   "language": "python",
   "name": "python3"
  },
  "language_info": {
   "codemirror_mode": {
    "name": "ipython",
    "version": 3
   },
   "file_extension": ".py",
   "mimetype": "text/x-python",
   "name": "python",
   "nbconvert_exporter": "python",
   "pygments_lexer": "ipython3",
   "version": "3.13.3"
  }
 },
 "nbformat": 4,
 "nbformat_minor": 5
}
